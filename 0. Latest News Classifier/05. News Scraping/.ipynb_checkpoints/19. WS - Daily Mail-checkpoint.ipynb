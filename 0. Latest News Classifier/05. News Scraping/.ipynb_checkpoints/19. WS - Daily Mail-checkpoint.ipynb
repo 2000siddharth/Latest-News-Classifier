{
 "cells": [
  {
   "cell_type": "markdown",
   "metadata": {},
   "source": [
    "# Web Scraping: BBC News"
   ]
  },
  {
   "cell_type": "code",
   "execution_count": 60,
   "metadata": {},
   "outputs": [],
   "source": [
    "import requests\n",
    "from bs4 import BeautifulSoup\n",
    "import numpy as np\n",
    "import pandas as pd\n",
    "import re"
   ]
  },
  {
   "cell_type": "markdown",
   "metadata": {},
   "source": [
    "### Obtain list of news from the coverpage"
   ]
  },
  {
   "cell_type": "markdown",
   "metadata": {},
   "source": [
    "URL definition:"
   ]
  },
  {
   "cell_type": "code",
   "execution_count": 28,
   "metadata": {},
   "outputs": [],
   "source": [
    "# url definition\n",
    "url = \"https://www.dailymail.co.uk\""
   ]
  },
  {
   "cell_type": "markdown",
   "metadata": {},
   "source": [
    "List of news:"
   ]
  },
  {
   "cell_type": "code",
   "execution_count": 29,
   "metadata": {},
   "outputs": [
    {
     "data": {
      "text/plain": [
       "132"
      ]
     },
     "execution_count": 29,
     "metadata": {},
     "output_type": "execute_result"
    }
   ],
   "source": [
    "# Request\n",
    "r1 = requests.get(url)\n",
    "r1.status_code\n",
    "\n",
    "# We'll save in coverpage the cover page content\n",
    "coverpage = r1.content\n",
    "\n",
    "# Soup creation\n",
    "soup1 = BeautifulSoup(coverpage, 'html5lib')\n",
    "\n",
    "# News identification\n",
    "coverpage_news = soup1.find_all('h2', class_='linkro-darkred')\n",
    "len(coverpage_news)"
   ]
  },
  {
   "cell_type": "markdown",
   "metadata": {},
   "source": [
    "Now we have a list in which every element is a news article:"
   ]
  },
  {
   "cell_type": "code",
   "execution_count": 25,
   "metadata": {},
   "outputs": [
    {
     "data": {
      "text/plain": [
       "<h2 class=\"linkro-darkred\">\n",
       "    <a href=\"/news/article-6542519/Its-David-Camer-gone-Ex-PM-loses-access-rights-House-Commons.html\" itemprop=\"url\">David Cameron loses his coveted Parliamentary pass after 'forgetting to renew it' in embarrassing admin blunder</a>\n",
       "  </h2>"
      ]
     },
     "execution_count": 25,
     "metadata": {},
     "output_type": "execute_result"
    }
   ],
   "source": [
    "coverpage_news[4]"
   ]
  },
  {
   "cell_type": "code",
   "execution_count": 30,
   "metadata": {},
   "outputs": [],
   "source": [
    "n=4"
   ]
  },
  {
   "cell_type": "code",
   "execution_count": 32,
   "metadata": {},
   "outputs": [
    {
     "data": {
      "text/plain": [
       "'https://www.dailymail.co.uk/news/article-6542519/Its-David-Camer-gone-Ex-PM-loses-access-rights-House-Commons.html'"
      ]
     },
     "execution_count": 32,
     "metadata": {},
     "output_type": "execute_result"
    }
   ],
   "source": [
    "link = url + coverpage_news[n].find('a')['href']\n",
    "link"
   ]
  },
  {
   "cell_type": "code",
   "execution_count": 34,
   "metadata": {},
   "outputs": [
    {
     "data": {
      "text/plain": [
       "\"David Cameron loses his coveted Parliamentary pass after 'forgetting to renew it' in embarrassing admin blunder\""
      ]
     },
     "execution_count": 34,
     "metadata": {},
     "output_type": "execute_result"
    }
   ],
   "source": [
    "title = coverpage_news[n].find('a').get_text()\n",
    "title"
   ]
  },
  {
   "cell_type": "code",
   "execution_count": 40,
   "metadata": {},
   "outputs": [],
   "source": [
    "article = requests.get(link)\n",
    "article_content = article.content\n",
    "soup_article = BeautifulSoup(article_content, 'html5lib')\n",
    "# body = soup_article.find_all('div', class_='content__article-body from-content-api js-article__body')\n",
    "# x = body[0].find_all('p')\n"
   ]
  },
  {
   "cell_type": "code",
   "execution_count": 45,
   "metadata": {},
   "outputs": [
    {
     "data": {
      "text/plain": [
       "[<p class=\"mol-para-with-font\"><a href=\"/news/david_cameron/index.html\" id=\"mol-74a51b80-0e79-11e9-815a-7b8456e996ba\" style=\"font-weight: bold;\">David Cameron</a> has lost his privileged access rights to the House of Commons - after apparently forgetting to renew his pass.</p>,\n",
       " <p class=\"mol-para-with-font\">The former PM was among more than 400 ex-politicians able to roam the Parliamentary estate and use the subsidised facilities.  </p>,\n",
       " <p class=\"mol-para-with-font\">But, despite rumours that he is plotting a comeback, Mr Cameron has fallen off the list due to an embarrassing administrative blunder. </p>,\n",
       " <p class=\"mol-para-with-font\">The most recent roster released by the Commons authorities show he does not hold a pass - although his close ally <a href=\"/news/george_osborne/index.html\" id=\"mol-74a5ded0-0e79-11e9-815a-7b8456e996ba\" style=\"font-weight: bold;\">George Osborne</a> has taken possession of one.</p>,\n",
       " <p class=\"mol-para-with-font\">The House confirmed he is not currently a passholder.  </p>,\n",
       " <p class=\"mol-para-with-font\">MailOnline understands Mr Cameron's team expected parliamentary officials to contact them when the pass needed renewing.</p>,\n",
       " <p class=\"mol-para-with-font\">Sources said the ex-premier had only gone back to the House 'once or twice' since stepping down in the wake of his humiliating EU referendum defeat in 2016. He is expected to apply for a pass again this year.</p>,\n",
       " <p class=\"mol-para-with-font\">In November a rumour swept Westminster that Mr Cameron was hoping for a return to frontline politics - potentially as Foreign Secretary - after Theresa May is replaced as leader.</p>,\n",
       " <p class=\"mol-para-with-font\">But the idea drew ridicule and bafflement from MPs, with some accusing him of a 'sense of entitlement' and others jibing that he had 'done enough damage' by triggering Brexit. </p>,\n",
       " <p class=\"mol-para-with-font\">Sources close to the former PM also poured cold water on the reports. </p>,\n",
       " <p class=\"mol-para-with-font\">Actor Danny Dyer won widespread acclaim when he accused Mr Cameron in a TV rant of 'scuttling off' after the EU referendum and putting his 'trotters up'.</p>,\n",
       " <p class=\"mol-para-with-font\">Since resigning Mr Cameron has spent much his time delivering lucrative corporate speeches, and writing his memoirs in a £25,000 shed in his Cotswolds garden.</p>,\n",
       " <p class=\"mol-para-with-font\">MPs who have served at least one full parliamentary term are eligible to apply for the 'Category X' passes.</p>,\n",
       " <p class=\"mol-para-with-font\">The scheme is intended to smooth the process of returning to civilian life - but questions have been raised about the potential for lobbying of former colleagues and whether individuals should retain access to the estate. </p>,\n",
       " <p class=\"mol-para-with-font\">Disgraced ex-ministers Chris Huhne and Jonathan Aitken are among 415 passholders on the latest list.</p>,\n",
       " <p class=\"mol-para-with-font\">Lib Dem ex-minister Mr Huhne was sentenced to eight months in prison in 2014 for trying to cover up the fact that he had swapped speeding points with his ex-wife, Vicky Pryce.</p>,\n",
       " <p class=\"mol-para-with-font\">Mr Aitken was jailed in 1999 for perjury and perverting the course of justice.</p>,\n",
       " <p class=\"mol-para-with-font\">There is no suggestion that any of the individuals have breached rules - which explicitly ban lobbying. </p>,\n",
       " <p class=\"mol-para-with-font\"> </p>,\n",
       " <p class=\"mol-para-with-font\"> </p>]"
      ]
     },
     "execution_count": 45,
     "metadata": {},
     "output_type": "execute_result"
    }
   ],
   "source": [
    "body = soup_article.find_all('p', class_='mol-para-with-font')\n",
    "body"
   ]
  },
  {
   "cell_type": "code",
   "execution_count": 51,
   "metadata": {},
   "outputs": [
    {
     "data": {
      "text/plain": [
       "'The most recent roster released by the Commons authorities show he does not hold a pass - although his close ally George Osborne has taken possession of one.'"
      ]
     },
     "execution_count": 51,
     "metadata": {},
     "output_type": "execute_result"
    }
   ],
   "source": [
    "body[3].get_text()"
   ]
  },
  {
   "cell_type": "markdown",
   "metadata": {},
   "source": [
    "### Let's extract the text from the articles:"
   ]
  },
  {
   "cell_type": "markdown",
   "metadata": {},
   "source": [
    "First, we'll define the number of articles we want:"
   ]
  },
  {
   "cell_type": "code",
   "execution_count": 53,
   "metadata": {},
   "outputs": [],
   "source": [
    "number_of_articles = 5"
   ]
  },
  {
   "cell_type": "code",
   "execution_count": 75,
   "metadata": {},
   "outputs": [],
   "source": [
    "# Empty lists for content, links and titles\n",
    "news_contents = []\n",
    "list_links = []\n",
    "list_titles = []\n",
    "\n",
    "for n in np.arange(0, number_of_articles):\n",
    "        \n",
    "    # Getting the link of the article\n",
    "    link = url + coverpage_news[n].find('a')['href']\n",
    "    list_links.append(link)\n",
    "    \n",
    "    # Getting the title\n",
    "    title = coverpage_news[n].find('a').get_text()\n",
    "    list_titles.append(title)\n",
    "    \n",
    "    # Reading the content (it is divided in paragraphs)\n",
    "    article = requests.get(link)\n",
    "    article_content = article.content\n",
    "    soup_article = BeautifulSoup(article_content, 'html5lib')\n",
    "    body = soup_article.find_all('p', class_='mol-para-with-font')\n",
    "    \n",
    "    # Unifying the paragraphs\n",
    "    list_paragraphs = []\n",
    "    for p in np.arange(0, len(body)):\n",
    "        paragraph = body[p].get_text()\n",
    "        list_paragraphs.append(paragraph)\n",
    "        final_article = \" \".join(list_paragraphs)\n",
    "        \n",
    "    # Removing special characters\n",
    "    final_article = re.sub(\"\\\\xa0\", \"\", final_article)\n",
    "        \n",
    "    news_contents.append(final_article)"
   ]
  },
  {
   "cell_type": "markdown",
   "metadata": {},
   "source": [
    "Let's put them into:\n",
    "* a dataset which will the input of the models (`df_features`)\n",
    "* a dataset with the title and the link (`df_show_info`)"
   ]
  },
  {
   "cell_type": "code",
   "execution_count": 76,
   "metadata": {},
   "outputs": [],
   "source": [
    "# df_features\n",
    "df_features = pd.DataFrame(\n",
    "     {'Article Content': news_contents \n",
    "    })\n",
    "\n",
    "# df_show_info\n",
    "df_show_info = pd.DataFrame(\n",
    "    {'Article Title': list_titles,\n",
    "     'Article Link': list_links})"
   ]
  },
  {
   "cell_type": "code",
   "execution_count": 77,
   "metadata": {},
   "outputs": [
    {
     "data": {
      "text/html": [
       "<div>\n",
       "<style scoped>\n",
       "    .dataframe tbody tr th:only-of-type {\n",
       "        vertical-align: middle;\n",
       "    }\n",
       "\n",
       "    .dataframe tbody tr th {\n",
       "        vertical-align: top;\n",
       "    }\n",
       "\n",
       "    .dataframe thead th {\n",
       "        text-align: right;\n",
       "    }\n",
       "</style>\n",
       "<table border=\"1\" class=\"dataframe\">\n",
       "  <thead>\n",
       "    <tr style=\"text-align: right;\">\n",
       "      <th></th>\n",
       "      <th>Article Content</th>\n",
       "    </tr>\n",
       "  </thead>\n",
       "  <tbody>\n",
       "    <tr>\n",
       "      <th>0</th>\n",
       "      <td>They are healthy, happy and looking forward to...</td>\n",
       "    </tr>\n",
       "    <tr>\n",
       "      <th>1</th>\n",
       "      <td>A female student has died after a 500ft 'horri...</td>\n",
       "    </tr>\n",
       "    <tr>\n",
       "      <th>2</th>\n",
       "      <td>Brexiteers have slammed Sadiq Khan's 'disgrace...</td>\n",
       "    </tr>\n",
       "    <tr>\n",
       "      <th>3</th>\n",
       "      <td>Britain woke up to temperatures of just -6C (2...</td>\n",
       "    </tr>\n",
       "    <tr>\n",
       "      <th>4</th>\n",
       "      <td>David Cameron has lost his privileged access r...</td>\n",
       "    </tr>\n",
       "  </tbody>\n",
       "</table>\n",
       "</div>"
      ],
      "text/plain": [
       "                                     Article Content\n",
       "0  They are healthy, happy and looking forward to...\n",
       "1  A female student has died after a 500ft 'horri...\n",
       "2  Brexiteers have slammed Sadiq Khan's 'disgrace...\n",
       "3  Britain woke up to temperatures of just -6C (2...\n",
       "4  David Cameron has lost his privileged access r..."
      ]
     },
     "execution_count": 77,
     "metadata": {},
     "output_type": "execute_result"
    }
   ],
   "source": [
    "df_features"
   ]
  },
  {
   "cell_type": "code",
   "execution_count": 78,
   "metadata": {},
   "outputs": [
    {
     "data": {
      "text/html": [
       "<div>\n",
       "<style scoped>\n",
       "    .dataframe tbody tr th:only-of-type {\n",
       "        vertical-align: middle;\n",
       "    }\n",
       "\n",
       "    .dataframe tbody tr th {\n",
       "        vertical-align: top;\n",
       "    }\n",
       "\n",
       "    .dataframe thead th {\n",
       "        text-align: right;\n",
       "    }\n",
       "</style>\n",
       "<table border=\"1\" class=\"dataframe\">\n",
       "  <thead>\n",
       "    <tr style=\"text-align: right;\">\n",
       "      <th></th>\n",
       "      <th>Article Title</th>\n",
       "      <th>Article Link</th>\n",
       "    </tr>\n",
       "  </thead>\n",
       "  <tbody>\n",
       "    <tr>\n",
       "      <th>0</th>\n",
       "      <td>Conjoined twin girls who were given a one-in-a...</td>\n",
       "      <td>https://www.dailymail.co.uk/news/article-65452...</td>\n",
       "    </tr>\n",
       "    <tr>\n",
       "      <th>1</th>\n",
       "      <td>Bristol University student, 22, becomes second...</td>\n",
       "      <td>https://www.dailymail.co.uk/news/article-65468...</td>\n",
       "    </tr>\n",
       "    <tr>\n",
       "      <th>2</th>\n",
       "      <td>Political fireworks! Remainer Sadiq Khan defen...</td>\n",
       "      <td>https://www.dailymail.co.uk/news/article-65441...</td>\n",
       "    </tr>\n",
       "    <tr>\n",
       "      <th>3</th>\n",
       "      <td>Britain's deep freeze: Temperatures plunge as ...</td>\n",
       "      <td>https://www.dailymail.co.uk/news/article-65463...</td>\n",
       "    </tr>\n",
       "    <tr>\n",
       "      <th>4</th>\n",
       "      <td>David Cameron loses his coveted Parliamentary ...</td>\n",
       "      <td>https://www.dailymail.co.uk/news/article-65425...</td>\n",
       "    </tr>\n",
       "  </tbody>\n",
       "</table>\n",
       "</div>"
      ],
      "text/plain": [
       "                                       Article Title  \\\n",
       "0  Conjoined twin girls who were given a one-in-a...   \n",
       "1  Bristol University student, 22, becomes second...   \n",
       "2  Political fireworks! Remainer Sadiq Khan defen...   \n",
       "3  Britain's deep freeze: Temperatures plunge as ...   \n",
       "4  David Cameron loses his coveted Parliamentary ...   \n",
       "\n",
       "                                        Article Link  \n",
       "0  https://www.dailymail.co.uk/news/article-65452...  \n",
       "1  https://www.dailymail.co.uk/news/article-65468...  \n",
       "2  https://www.dailymail.co.uk/news/article-65441...  \n",
       "3  https://www.dailymail.co.uk/news/article-65463...  \n",
       "4  https://www.dailymail.co.uk/news/article-65425...  "
      ]
     },
     "execution_count": 78,
     "metadata": {},
     "output_type": "execute_result"
    }
   ],
   "source": [
    "df_show_info"
   ]
  }
 ],
 "metadata": {
  "kernelspec": {
   "display_name": "Python 3",
   "language": "python",
   "name": "python3"
  },
  "language_info": {
   "codemirror_mode": {
    "name": "ipython",
    "version": 3
   },
   "file_extension": ".py",
   "mimetype": "text/x-python",
   "name": "python",
   "nbconvert_exporter": "python",
   "pygments_lexer": "ipython3",
   "version": "3.6.5"
  }
 },
 "nbformat": 4,
 "nbformat_minor": 2
}
